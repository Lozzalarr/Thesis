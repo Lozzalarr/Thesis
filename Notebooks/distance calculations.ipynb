{
 "cells": [
  {
   "cell_type": "code",
   "execution_count": null,
   "metadata": {},
   "outputs": [],
   "source": [
    "import geopandas as gpd\n",
    "import pandas as pd\n",
    "from shapely.geometry import Point\n",
    "\n",
    "# Read ground truth shapefile\n",
    "ground_truth = gpd.read_file('./Shapefiles/ground_truth.shp', dtype={'NZ_time':'str'})\n",
    "\n",
    "# Read detection shapefile\n",
    "detections = gpd.read_file('./Shapefiles/detectction_time_filtered.shp', dtype={'DATE':'str'})\n",
    "# detections\n",
    "\n",
    "ground_truth_df = ground_truth[['Track_ID', 'time', 'geometry', ]]\n",
    "ground_truth_df['time'] = pd.to_datetime(ground_truth_df['time'])\n",
    "\n",
    "detections_df = detections[['True_Track', 'time', 'geometry']]\n",
    "detections_df['time'] = pd.to_datetime(detections_df['time'])\n",
    "detections_df['Track_ID'] = detections_df['True_Track']\n",
    "\n",
    "# Create a new GeoDataFrame to store distances\n",
    "distances = gpd.GeoDataFrame(columns=['Track_ID', 'time', 'distance', 'geometry'], geometry='geometry')\n",
    "\n",
    "# Group by Track_ID in ground_truth_df\n",
    "grouped_ground_truth = ground_truth_df.groupby('Track_ID')\n",
    "\n",
    "for track_id, group in grouped_ground_truth:\n",
    "    # Get the corresponding detections for the current Track_ID\n",
    "    same_track_detections = detections_df[detections_df['Track_ID'] == track_id]\n",
    "    \n",
    "    for index, row in group.iterrows():\n",
    "        time = row['time']\n",
    "        geometry = row['geometry']\n",
    "        \n",
    "        same_time_detections = same_track_detections[same_track_detections['time'] == time]\n",
    "        \n",
    "        for det_index, det_row in same_time_detections.iterrows():\n",
    "            distance = geometry.distance(det_row['geometry'])\n",
    "            distances = distances.append({'Track_ID': track_id, 'time': time, 'distance': distance, 'geometry': geometry}, ignore_index=True)\n",
    "\n"
   ]
  },
  {
   "cell_type": "code",
   "execution_count": null,
   "metadata": {},
   "outputs": [],
   "source": [
    "distances.to_csv('./distances_filtered.csv')\n"
   ]
  }
 ],
 "metadata": {
  "kernelspec": {
   "display_name": "geospatialv1",
   "language": "python",
   "name": "python3"
  },
  "language_info": {
   "codemirror_mode": {
    "name": "ipython",
    "version": 3
   },
   "file_extension": ".py",
   "mimetype": "text/x-python",
   "name": "python",
   "nbconvert_exporter": "python",
   "pygments_lexer": "ipython3",
   "version": "3.10.8"
  },
  "orig_nbformat": 4
 },
 "nbformat": 4,
 "nbformat_minor": 2
}
