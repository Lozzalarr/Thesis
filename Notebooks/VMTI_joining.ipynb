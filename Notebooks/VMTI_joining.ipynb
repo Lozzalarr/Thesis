{
 "cells": [
  {
   "cell_type": "markdown",
   "metadata": {},
   "source": [
    "# Join VMTI detection to FMV video metadata"
   ]
  },
  {
   "cell_type": "markdown",
   "metadata": {},
   "source": [
    "### import the CSV files"
   ]
  },
  {
   "cell_type": "code",
   "execution_count": null,
   "metadata": {},
   "outputs": [],
   "source": [
    "import pandas as pd\n",
    "import numpy as np\n",
    "\n",
    "vmti_csv = ## CSV with VMTI and frame time field \n",
    "in_csv = ## CSV with the video metadata for the same video detections were on\n",
    "\n",
    "df_vmti = pd.read_csv(vmti_csv)\n",
    "df_csv = pd.read_csv(in_csv)\n",
    "\n",
    "## CHANGE FIELLD NAMES ACCORDINGLY TO YOUR DATA \n",
    "\n",
    "df_csv['packet_time'] = df_csv['packet_time'].astype(float)\n",
    "df_csv['UNIX_TIME'] = df_csv['UNIX_TIME'].astype(np.int64)\n",
    "df_vmti"
   ]
  },
  {
   "cell_type": "code",
   "execution_count": null,
   "metadata": {},
   "outputs": [],
   "source": [
    "joined = pd.merge_asof(left=df_csv,\n",
    "                       right=df_vmti[['vmtilocaldataset', 'frame_time']],\n",
    "                       left_on='packet_time',\n",
    "                       right_on='frame_time',\n",
    "                       direction='nearest')\n",
    "\n",
    "joined"
   ]
  },
  {
   "cell_type": "code",
   "execution_count": null,
   "metadata": {},
   "outputs": [],
   "source": [
    "joined_subset = joined[['packet_time', 'frame_time']]\n",
    "\n",
    "difference = joined_subset.diff(axis=1)\n",
    "\n",
    "difference.to_csv('./time_differences.csv')\n"
   ]
  },
  {
   "cell_type": "code",
   "execution_count": null,
   "metadata": {},
   "outputs": [],
   "source": [
    "joined.drop(['Unnamed: 17',\n",
    "             'Unnamed: 18', \n",
    "             'packet_time', \n",
    "             'frame_time', \t\n",
    "             'OID_', \n",
    "             'OBJECTID',\n",
    "             'CUSTOM_updateTime'], \n",
    "             axis=1, \n",
    "             inplace=True)\n",
    "joined"
   ]
  },
  {
   "cell_type": "code",
   "execution_count": null,
   "metadata": {},
   "outputs": [],
   "source": [
    "out_csv = './videoA_RCNN_tracking/VideoA_Predictions_rcnn_640_batch1_rnet101_with_tracking_with_VMTI.csv'\n",
    "joined.to_csv(out_csv, index=False)"
   ]
  }
 ],
 "metadata": {
  "kernelspec": {
   "display_name": "DeepLearning",
   "language": "python",
   "name": "python3"
  },
  "language_info": {
   "codemirror_mode": {
    "name": "ipython",
    "version": 3
   },
   "file_extension": ".py",
   "mimetype": "text/x-python",
   "name": "python",
   "nbconvert_exporter": "python",
   "pygments_lexer": "ipython3",
   "version": "3.10.8"
  },
  "orig_nbformat": 4
 },
 "nbformat": 4,
 "nbformat_minor": 2
}
